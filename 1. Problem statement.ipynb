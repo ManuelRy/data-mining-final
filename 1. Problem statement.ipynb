{
 "cells": [
  {
   "cell_type": "markdown",
   "id": "aa5ef349",
   "metadata": {},
   "source": [
    "### Main topics\n",
    "The growing popularity of esports globally."
   ]
  },
  {
   "cell_type": "markdown",
   "id": "9469874a",
   "metadata": {},
   "source": [
    "### Describe what questions do you try to solve?"
   ]
  },
  {
   "cell_type": "markdown",
   "id": "98174075",
   "metadata": {},
   "source": [
    "Problem Statement:\n",
    "Forecasting Future Esports Trends\n",
    "\n",
    "The main objective of this research is to use previous data to forecast future trends in the popularity and revenue of esports. In the next five to ten years, it also seeks to determine which games are most likely to rule the esports scene. The project's insights may prove beneficial to investors, game developers, and tournament organizers, among other esports industry participants.\n",
    "\n",
    "Operational Efficient Decision-Making: Stakeholders can improve operational efficiency by forecasting future esports trends. For instance, game creators can concentrate their efforts on creating titles that are anticipated to be well-liked by the esports community. Based on the anticipated popularity of certain games, tournament planners can schedule their tournaments.Investors can make investment decisions based on the projected earnings of different esports games.\n",
    "\n",
    "Challenge: This project presents a number of obstacles. First, a variety of data types, such as numerical data (e.g., Earnings, Players) and categorical data (e.g., Genre), must be handled by the project. Second, using advanced predictive modeling approaches, the project must overcome the difficulty of forecasting future patterns from historical data. Third, as the esports sector is growing quickly, the model must be adaptable enough to take these developments into account. Lastly, the project must strike a balance between the model's interpretability and forecast accuracy, particularly if the model's insights are utilized to guide strategic decision-making.\n",
    "\n",
    "Customer Experience: In the context of esports, improving the spectator and player experience entails establishing a fun and interesting atmosphere. Game developers may produce games that meet player expectations and preferences by forecasting future esports trends. This makes for a more enjoyable gaming experience. The spectator experience can be improved by tournament organizers creating events that are tailored to the interests of the audience. In addition, organizations can enhance customer happiness and loyalty by offering tailored discounts and incentives to their customers based on early identification of potentially popular games. In general, the project's insights can assist esports industry stakeholders in providing an enhanced user experience.\n",
    "\n"
   ]
  }
 ],
 "metadata": {
  "kernelspec": {
   "display_name": "Python 3 (ipykernel)",
   "language": "python",
   "name": "python3"
  },
  "language_info": {
   "codemirror_mode": {
    "name": "ipython",
    "version": 3
   },
   "file_extension": ".py",
   "mimetype": "text/x-python",
   "name": "python",
   "nbconvert_exporter": "python",
   "pygments_lexer": "ipython3",
   "version": "3.11.5"
  }
 },
 "nbformat": 4,
 "nbformat_minor": 5
}
