{
 "cells": [
  {
   "cell_type": "code",
   "execution_count": 3,
   "metadata": {},
   "outputs": [
    {
     "name": "stdout",
     "output_type": "stream",
     "text": [
      "Gradient Boosting RMSE: 673839.2156837306\n",
      "\n",
      "Predicted Future Earnings for Top 10 Games:\n",
      "                                      Game  Predicted_Earnings\n",
      "9237                              Fortnite       576652.121012\n",
      "9235                     Age of Empires IV       305575.554906\n",
      "9243  PLAYERUNKNOWN'S BATTLEGROUNDS Mobile       276240.287664\n",
      "9234                             CrossFire       119999.833739\n",
      "9236                          StarCraft II       101573.065322\n",
      "9238                       Team Fortress 2         6311.638589\n",
      "9241                        Age of Empires       -14306.974836\n",
      "9240                     Trackmania (2020)       -18592.785894\n",
      "9239                                  osu!       -20894.574812\n",
      "9242                     Age of Empires II       -21261.544974\n"
     ]
    },
    {
     "name": "stderr",
     "output_type": "stream",
     "text": [
      "/var/folders/pj/n6cjvn7x04zc_d37gj8hsmlr0000gn/T/ipykernel_57070/1419538185.py:38: SettingWithCopyWarning: \n",
      "A value is trying to be set on a copy of a slice from a DataFrame.\n",
      "Try using .loc[row_indexer,col_indexer] = value instead\n",
      "\n",
      "See the caveats in the documentation: https://pandas.pydata.org/pandas-docs/stable/user_guide/indexing.html#returning-a-view-versus-a-copy\n",
      "  future_data.loc[:, 'Predicted_Earnings'] = future_earnings_predictions\n"
     ]
    }
   ],
   "source": [
    "# Import necessary libraries\n",
    "import pandas as pd\n",
    "from sklearn.model_selection import train_test_split\n",
    "from sklearn.ensemble import GradientBoostingRegressor\n",
    "from sklearn.metrics import mean_squared_error\n",
    "from sklearn.preprocessing import StandardScaler\n",
    "\n",
    "# Load the dataset\n",
    "df = pd.read_csv('data_creation_cleaned_no_duplicates.csv')\n",
    "\n",
    "# Select relevant features for regression\n",
    "features = ['TotalEarnings', 'TotalPlayers', 'TotalTournaments', 'Earnings_YoY_Growth', 'Players_YoY_Growth', 'Tournaments_YoY_Growth']\n",
    "\n",
    "# Split the data into training and testing sets\n",
    "X_train, X_test, y_train, y_test = train_test_split(df[features], df['Earnings'], test_size=0.2, random_state=42)\n",
    "\n",
    "# Standardize the features\n",
    "scaler = StandardScaler()\n",
    "X_train_scaled = scaler.fit_transform(X_train)\n",
    "X_test_scaled = scaler.transform(X_test)\n",
    "\n",
    "# Gradient Boosting Regression\n",
    "gradient_boost_model = GradientBoostingRegressor()\n",
    "gradient_boost_model.fit(X_train_scaled, y_train)\n",
    "gradient_boost_predictions = gradient_boost_model.predict(X_test_scaled)\n",
    "\n",
    "# Evaluate the model\n",
    "gradient_boost_rmse = mean_squared_error(y_test, gradient_boost_predictions, squared=False)\n",
    "\n",
    "# Predict future earnings for top 10 games\n",
    "future_data = df.tail(10)  # Assuming the last 10 rows are for the top 10 games\n",
    "future_data_scaled = scaler.transform(future_data[features])\n",
    "future_earnings_predictions = gradient_boost_model.predict(future_data_scaled)\n",
    "\n",
    "# Display the results\n",
    "print(f'Gradient Boosting RMSE: {gradient_boost_rmse}')\n",
    "print('\\nPredicted Future Earnings for Top 10 Games:')\n",
    "future_data.loc[:, 'Predicted_Earnings'] = future_earnings_predictions\n",
    "print(future_data[['Game', 'Predicted_Earnings']].sort_values(by='Predicted_Earnings', ascending=False))\n"
   ]
  }
 ],
 "metadata": {
  "kernelspec": {
   "display_name": "base",
   "language": "python",
   "name": "python3"
  },
  "language_info": {
   "codemirror_mode": {
    "name": "ipython",
    "version": 3
   },
   "file_extension": ".py",
   "mimetype": "text/x-python",
   "name": "python",
   "nbconvert_exporter": "python",
   "pygments_lexer": "ipython3",
   "version": "3.11.5"
  }
 },
 "nbformat": 4,
 "nbformat_minor": 2
}
