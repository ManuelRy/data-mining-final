{
 "cells": [
  {
   "cell_type": "markdown",
   "id": "922aac5f",
   "metadata": {},
   "source": [
    "### Describe your finding and conclusion\n",
    "\n"
   ]
  },
  {
   "cell_type": "code",
   "execution_count": null,
   "id": "1a6711c4",
   "metadata": {},
   "outputs": [],
   "source": [
    "https://docs.google.com/document/d/1sQX3MLBWftccfAWaoa5m9kZuf15V8gcaF_m21CMeEp4/edit?usp=sharing"
   ]
  }
 ],
 "metadata": {
  "kernelspec": {
   "display_name": "Python 3 (ipykernel)",
   "language": "python",
   "name": "python3"
  },
  "language_info": {
   "codemirror_mode": {
    "name": "ipython",
    "version": 3
   },
   "file_extension": ".py",
   "mimetype": "text/x-python",
   "name": "python",
   "nbconvert_exporter": "python",
   "pygments_lexer": "ipython3",
   "version": "3.11.4"
  }
 },
 "nbformat": 4,
 "nbformat_minor": 5
}
