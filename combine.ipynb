{
 "cells": [
  {
   "cell_type": "code",
   "execution_count": 1,
   "metadata": {},
   "outputs": [
    {
     "name": "stdout",
     "output_type": "stream",
     "text": [
      "Combined and enriched data saved as CombinedEsportData.csv\n"
     ]
    }
   ],
   "source": [
    "# Import libraries\n",
    "import pandas as pd\n",
    "import numpy as np\n",
    "\n",
    "# Read HistoricalEsportData.csv\n",
    "historical_data = pd.read_csv(\"HistoricalEsportData.csv\", parse_dates=['Date'])\n",
    "\n",
    "# Read GeneralEsportData.csv\n",
    "general_data = pd.read_csv(\"GeneralEsportData.csv\", parse_dates=['ReleaseDate'])\n",
    "\n",
    "# Calculate year-over-year growth\n",
    "# historical_data['Earnings_YoY'] = historical_data.groupby('Game')['Earnings'].pct_change()\n",
    "\n",
    "# Merge the two datasets on the 'Game' column\n",
    "merged_data = pd.merge(historical_data, general_data, on='Game', how='left')\n",
    "\n",
    "# Create categorical features for genre and release decade\n",
    "# merged_data['ReleaseDecade'] = (merged_data['ReleaseDate'].dt.year // 10) * 10\n",
    "# merged_data['Genre'] = merged_data['Genre'].astype('category')\n",
    "\n",
    "# Save the combined and enriched dataset as a new CSV file\n",
    "merged_data.to_csv(\"FullEsportData.csv\", index=False)\n",
    "\n",
    "# Display a message indicating successful saving\n",
    "print(\"Combined and enriched data saved as CombinedEsportData.csv\")\n"
   ]
  }
 ],
 "metadata": {
  "kernelspec": {
   "display_name": "base",
   "language": "python",
   "name": "python3"
  },
  "language_info": {
   "codemirror_mode": {
    "name": "ipython",
    "version": 3
   },
   "file_extension": ".py",
   "mimetype": "text/x-python",
   "name": "python",
   "nbconvert_exporter": "python",
   "pygments_lexer": "ipython3",
   "version": "3.12.0"
  }
 },
 "nbformat": 4,
 "nbformat_minor": 2
}
