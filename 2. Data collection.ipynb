{
 "cells": [
  {
   "cell_type": "markdown",
   "id": "57dc52d7",
   "metadata": {},
   "source": [
    "#### Example\n",
    "\n",
    "- How you get the dataset?\n",
    "- Link/Script to donwload data."
   ]
  },
  {
   "cell_type": "code",
   "execution_count": 2,
   "id": "85ead8cd",
   "metadata": {},
   "outputs": [
    {
     "data": {
      "text/plain": [
       "'Link to the data: https://www.kaggle.com/code/timmofeyy/esports-earnings-full-analysis-1998-2023/notebook'"
      ]
     },
     "execution_count": 2,
     "metadata": {},
     "output_type": "execute_result"
    }
   ],
   "source": [
    "\"We initially got the data from, kaggle.com. \"\n",
    "\"The subject is Esports Earnings Full Analysis [1990 - 2023]\"\n",
    "\"Link to the data: https://www.kaggle.com/code/timmofeyy/esports-earnings-full-analysis-1998-2023/notebook\""
   ]
  }
 ],
 "metadata": {
  "kernelspec": {
   "display_name": "Python 3 (ipykernel)",
   "language": "python",
   "name": "python3"
  },
  "language_info": {
   "codemirror_mode": {
    "name": "ipython",
    "version": 3
   },
   "file_extension": ".py",
   "mimetype": "text/x-python",
   "name": "python",
   "nbconvert_exporter": "python",
   "pygments_lexer": "ipython3",
   "version": "3.12.0"
  }
 },
 "nbformat": 4,
 "nbformat_minor": 5
}
