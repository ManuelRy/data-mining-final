{
 "cells": [
  {
   "cell_type": "markdown",
   "id": "57dc52d7",
   "metadata": {},
   "source": [
    "#### Example\n",
    "\n",
    "- How you get the dataset?\n",
    "- Link/Script to donwload data."
   ]
  },
  {
   "cell_type": "markdown",
   "id": "934f0134",
   "metadata": {},
   "source": [
    "LINK where we get the data: https://www.kaggle.com/code/timmofeyy/esports-earnings-full-analysis-1998-2023/input"
   ]
  },
  {
   "cell_type": "markdown",
   "id": "8022f6f9",
   "metadata": {},
   "source": [
    "There are two datasets we got from link and then we combine them as \n",
    " \"FullEsportData.csv\""
   ]
  }
 ],
 "metadata": {
  "kernelspec": {
   "display_name": "Python 3 (ipykernel)",
   "language": "python",
   "name": "python3"
  },
  "language_info": {
   "codemirror_mode": {
    "name": "ipython",
    "version": 3
   },
   "file_extension": ".py",
   "mimetype": "text/x-python",
   "name": "python",
   "nbconvert_exporter": "python",
   "pygments_lexer": "ipython3",
   "version": "3.11.5"
  }
 },
 "nbformat": 4,
 "nbformat_minor": 5
}
