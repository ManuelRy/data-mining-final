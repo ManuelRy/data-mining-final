{
 "cells": [
  {
   "cell_type": "code",
   "execution_count": 1,
   "metadata": {},
   "outputs": [
    {
     "name": "stdout",
     "output_type": "stream",
     "text": [
      "Mean Squared Error: 293081075219.4216\n"
     ]
    }
   ],
   "source": [
    "import pandas as pd\n",
    "from sklearn.ensemble import GradientBoostingRegressor\n",
    "from sklearn.model_selection import train_test_split\n",
    "from sklearn.metrics import mean_squared_error\n",
    "from sklearn.preprocessing import LabelEncoder\n",
    "\n",
    "# Load the dataset\n",
    "file_path = 'data_creation_cleaned_no_duplicates.csv'\n",
    "df = pd.read_csv(file_path)\n",
    "\n",
    "# Convert categorical variables to dummy/indicator variables\n",
    "df = pd.get_dummies(df, columns=['Genre'])\n",
    "\n",
    "# Convert 'ReleaseDate' to datetime and extract features\n",
    "df['ReleaseDate'] = pd.to_datetime(df['ReleaseDate'])\n",
    "df['ReleaseYear'] = df['ReleaseDate'].dt.year\n",
    "\n",
    "# Drop unnecessary columns for training\n",
    "X = df.drop(['Earnings', 'Date', 'Game', 'ReleaseDate'], axis=1)\n",
    "y = df['Earnings']\n",
    "\n",
    "# Initialize the LabelEncoder for 'ReleaseYear' if needed\n",
    "le = LabelEncoder()\n",
    "X['ReleaseYear'] = le.fit_transform(X['ReleaseYear'])\n",
    "\n",
    "# Split the data into training and testing sets\n",
    "X_train, X_test, y_train, y_test = train_test_split(X, y, test_size=0.2, random_state=42)\n",
    "\n",
    "# Initialize the Gradient Boosting Regressor\n",
    "regressor = GradientBoostingRegressor()\n",
    "\n",
    "# Fit the model\n",
    "regressor.fit(X_train, y_train)\n",
    "\n",
    "# Make predictions on the test set\n",
    "y_pred = regressor.predict(X_test)\n",
    "\n",
    "# Evaluate the model \n",
    "mse = mean_squared_error(y_test, y_pred)\n",
    "print(f'Mean Squared Error: {mse}')\n",
    "\n",
    "# Save the predictions along with other columns to a new CSV file\n",
    "df['Predicted_Earnings'] = regressor.predict(X)\n",
    "df.to_csv('predicted_results.csv', index=False)\n"
   ]
  }
 ],
 "metadata": {
  "kernelspec": {
   "display_name": "base",
   "language": "python",
   "name": "python3"
  },
  "language_info": {
   "codemirror_mode": {
    "name": "ipython",
    "version": 3
   },
   "file_extension": ".py",
   "mimetype": "text/x-python",
   "name": "python",
   "nbconvert_exporter": "python",
   "pygments_lexer": "ipython3",
   "version": "3.12.0"
  }
 },
 "nbformat": 4,
 "nbformat_minor": 2
}
