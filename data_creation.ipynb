{
 "cells": [
  {
   "cell_type": "code",
   "execution_count": 1,
   "metadata": {},
   "outputs": [
    {
     "ename": "ModuleNotFoundError",
     "evalue": "No module named 'pandas'",
     "output_type": "error",
     "traceback": [
      "\u001b[1;31m---------------------------------------------------------------------------\u001b[0m",
      "\u001b[1;31mModuleNotFoundError\u001b[0m                       Traceback (most recent call last)",
      "Cell \u001b[1;32mIn[1], line 1\u001b[0m\n\u001b[1;32m----> 1\u001b[0m \u001b[38;5;28;01mimport\u001b[39;00m \u001b[38;5;21;01mpandas\u001b[39;00m \u001b[38;5;28;01mas\u001b[39;00m \u001b[38;5;21;01mpd\u001b[39;00m\n\u001b[0;32m      2\u001b[0m \u001b[38;5;28;01mimport\u001b[39;00m \u001b[38;5;21;01mmatplotlib\u001b[39;00m\u001b[38;5;21;01m.\u001b[39;00m\u001b[38;5;21;01mpyplot\u001b[39;00m \u001b[38;5;28;01mas\u001b[39;00m \u001b[38;5;21;01mplt\u001b[39;00m\n\u001b[0;32m      3\u001b[0m \u001b[38;5;28;01mimport\u001b[39;00m \u001b[38;5;21;01mseaborn\u001b[39;00m \u001b[38;5;28;01mas\u001b[39;00m \u001b[38;5;21;01msns\u001b[39;00m\n",
      "\u001b[1;31mModuleNotFoundError\u001b[0m: No module named 'pandas'"
     ]
    }
   ],
   "source": [
    "import pandas as pd\n",
    "import matplotlib.pyplot as plt\n",
    "import seaborn as sns\n",
    "\n",
    "# Load general esport data\n",
    "general_data = pd.read_csv(\"GeneralEsportData.csv\")\n",
    "\n",
    "# Load historical esport data\n",
    "historical_data = pd.read_csv(\"HistoricalEsportData.csv\", parse_dates=[\"Date\"])\n",
    "\n",
    "# Data Cleaning for Historical Esport Data\n",
    "\n",
    "# Calculate year-over-year growth in earnings, player base, and tournaments\n",
    "historical_data[\"Earnings_YoY_Growth\"] = historical_data.groupby(\"Game\")[\"Earnings\"].pct_change() * 100\n",
    "historical_data[\"Players_YoY_Growth\"] = historical_data.groupby(\"Game\")[\"Players\"].pct_change() * 100\n",
    "historical_data[\"Tournaments_YoY_Growth\"] = historical_data.groupby(\"Game\")[\"Tournaments\"].pct_change() * 100\n",
    "\n",
    "# Create categorical features for genre and release decade in historical data\n",
    "historical_data[\"Genre_Category\"] = historical_data[\"Game\"].map(dict(zip(general_data[\"Game\"], general_data[\"Genre\"])))\n",
    "historical_data[\"Release_Decade\"] = (historical_data[\"Date\"].dt.year // 10) * 10\n",
    "\n",
    "# Display the updated historical data\n",
    "print(historical_data.head())\n",
    "\n",
    "# Data Cleaning for General Esport Data\n",
    "\n",
    "# Drop unnecessary columns if needed\n",
    "general_data = general_data.drop([\"OfflineEarnings\", \"PercentOffline\"], axis=1)\n",
    "\n",
    "# Fill missing values with appropriate strategies\n",
    "general_data[\"TotalEarnings\"].fillna(general_data[\"TotalEarnings\"].mean(), inplace=True)\n",
    "general_data[\"TotalPlayers\"].fillna(general_data[\"TotalPlayers\"].median(), inplace=True)\n",
    "\n",
    "# Check for missing values again\n",
    "print(general_data.isna().sum())\n",
    "\n",
    "# Explore relationships between variables\n",
    "sns.pairplot(general_data[['TotalEarnings', 'TotalPlayers', 'TotalTournaments']])\n",
    "plt.show()\n",
    "\n",
    "# Merging both datasets based on the \"Game\" column\n",
    "merged_data = pd.merge(historical_data, general_data, on=\"Game\", how=\"left\")\n",
    "\n",
    "# Display the merged data\n",
    "print(merged_data.head())\n"
   ]
  }
 ],
 "metadata": {
  "kernelspec": {
   "display_name": "base",
   "language": "python",
   "name": "python3"
  },
  "language_info": {
   "codemirror_mode": {
    "name": "ipython",
    "version": 3
   },
   "file_extension": ".py",
   "mimetype": "text/x-python",
   "name": "python",
   "nbconvert_exporter": "python",
   "pygments_lexer": "ipython3",
   "version": "3.12.0"
  }
 },
 "nbformat": 4,
 "nbformat_minor": 2
}
